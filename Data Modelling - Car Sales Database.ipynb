{
 "cells": [
  {
   "cell_type": "markdown",
   "id": "56dc665d",
   "metadata": {},
   "source": [
    "## Creating a Table using psycopyg2 - PostgreSQL database adapter for the Python"
   ]
  },
  {
   "cell_type": "code",
   "execution_count": 88,
   "id": "17f92a9f",
   "metadata": {},
   "outputs": [
    {
     "name": "stdout",
     "output_type": "stream",
     "text": [
      "Requirement already satisfied: psycopg2 in c:\\users\\shara\\anaconda3\\lib\\site-packages (2.9.5)\n"
     ]
    }
   ],
   "source": [
    "!pip install psycopg2"
   ]
  },
  {
   "cell_type": "markdown",
   "id": "46004eee",
   "metadata": {},
   "source": [
    "## Import the libraries"
   ]
  },
  {
   "cell_type": "code",
   "execution_count": 89,
   "id": "8a148d09",
   "metadata": {},
   "outputs": [],
   "source": [
    "import psycopg2\n",
    "import pandas as pd\n",
    "import numpy as np\n",
    "from psycopg2.extensions import register_adapter, AsIs\n",
    "psycopg2.extensions.register_adapter(np.int64, psycopg2._psycopg.AsIs)"
   ]
  },
  {
   "cell_type": "markdown",
   "id": "00f7a6a2",
   "metadata": {},
   "source": [
    "## Create a connection to the database"
   ]
  },
  {
   "cell_type": "code",
   "execution_count": 90,
   "id": "c2191466",
   "metadata": {},
   "outputs": [],
   "source": [
    "try: \n",
    "    conn = psycopg2.connect(\"host=127.0.0.1 dbname=postgres user=postgres password=root\")\n",
    "except psycopg2.Error as e: \n",
    "    print(\"Error: Could not make connection to the Postgres database\")\n",
    "    print(e)"
   ]
  },
  {
   "cell_type": "markdown",
   "id": "1055bff6",
   "metadata": {},
   "source": [
    "## Use the connection to get a cursor that can be used to execute queries."
   ]
  },
  {
   "cell_type": "code",
   "execution_count": 91,
   "id": "2a893200",
   "metadata": {},
   "outputs": [],
   "source": [
    "try: \n",
    "    cur = conn.cursor()\n",
    "except psycopg2.Error as e: \n",
    "    print(\"Error: Could not get curser to the Database\")\n",
    "    print(e)"
   ]
  },
  {
   "cell_type": "markdown",
   "id": "d779c966",
   "metadata": {},
   "source": [
    "## Set automatic commit to be true so that each action is committed without having to call conn.commit() after each command."
   ]
  },
  {
   "cell_type": "code",
   "execution_count": 92,
   "id": "13305c08",
   "metadata": {},
   "outputs": [],
   "source": [
    "conn.set_session(autocommit=True)"
   ]
  },
  {
   "cell_type": "markdown",
   "id": "c8e46fa3",
   "metadata": {},
   "source": [
    "## Create a database to do the work - carsales database"
   ]
  },
  {
   "cell_type": "code",
   "execution_count": 93,
   "id": "7063598d",
   "metadata": {},
   "outputs": [
    {
     "name": "stdout",
     "output_type": "stream",
     "text": [
      "database \"carsales\" already exists\n",
      "\n"
     ]
    }
   ],
   "source": [
    "try: \n",
    "    cur.execute(\"create database carsales\")\n",
    "except psycopg2.Error as e:\n",
    "    print(e)"
   ]
  },
  {
   "cell_type": "markdown",
   "id": "7fb0a512",
   "metadata": {},
   "source": [
    "## Close our connection to the default database, reconnect to the carsales database and get a new cursor"
   ]
  },
  {
   "cell_type": "code",
   "execution_count": 94,
   "id": "9fd39615",
   "metadata": {},
   "outputs": [],
   "source": [
    "try: \n",
    "    conn.close()\n",
    "except psycopg2.Error as e:\n",
    "    print(e)\n",
    "    \n",
    "try: \n",
    "    conn = psycopg2.connect(\"host=127.0.0.1 dbname=carsales user=postgres password=root\")\n",
    "except psycopg2.Error as e: \n",
    "    print(\"Error: Could not make connection to the Postgres database\")\n",
    "    print(e)\n",
    "    \n",
    "try: \n",
    "    cur = conn.cursor()\n",
    "except psycopg2.Error as e: \n",
    "    print(\"Error: Could not get curser to the Database\")\n",
    "    print(e)\n",
    "\n",
    "conn.set_session(autocommit=True)"
   ]
  },
  {
   "cell_type": "markdown",
   "id": "530a7702",
   "metadata": {},
   "source": [
    "## Create Table for cars which includes below columns\n",
    "\n",
    "(Purchase_Date , Customer_Name , Dealer_Name,  Company , Model , Year , Body_Style , Engine , Transmission , Color , Price_in_thousands , Dealer_Add , Customer_Address , CouncilArea , Phone , Gender , Annual_Income , Dealer_Location , Dealer_No  , Dealer_Region)"
   ]
  },
  {
   "cell_type": "code",
   "execution_count": 95,
   "id": "17e80ac0",
   "metadata": {},
   "outputs": [],
   "source": [
    "try: \n",
    "    cur.execute(\"CREATE TABLE IF NOT EXISTS cars (Purchase_Date varchar, Customer_Name varchar, Dealer_Name varchar, Company varchar, Model varchar, Year int, Body_Style varchar, Engine varchar, Transmission varchar, Color varchar, Price_in_thousands int, Dealer_Add varchar, Customer_Address varchar, CouncilArea varchar, Phone int, Gender varchar, Annual_Income int, Dealer_Location varchar, Dealer_No  varchar, Dealer_Region varchar);\")\n",
    "except psycopg2.Error as e: \n",
    "    print(\"Error: Issue creating table\")\n",
    "    print (e)"
   ]
  },
  {
   "cell_type": "code",
   "execution_count": 96,
   "id": "3746329a",
   "metadata": {},
   "outputs": [],
   "source": [
    "try: \n",
    "    cur.execute(\"DELETE FROM cars\")    \n",
    "except psycopg2.Error as e: \n",
    "        print(\"Error: Inserting Rows\")\n",
    "        print (e)"
   ]
  },
  {
   "cell_type": "code",
   "execution_count": 97,
   "id": "15b49b6e",
   "metadata": {},
   "outputs": [
    {
     "data": {
      "text/html": [
       "<div>\n",
       "<style scoped>\n",
       "    .dataframe tbody tr th:only-of-type {\n",
       "        vertical-align: middle;\n",
       "    }\n",
       "\n",
       "    .dataframe tbody tr th {\n",
       "        vertical-align: top;\n",
       "    }\n",
       "\n",
       "    .dataframe thead th {\n",
       "        text-align: right;\n",
       "    }\n",
       "</style>\n",
       "<table border=\"1\" class=\"dataframe\">\n",
       "  <thead>\n",
       "    <tr style=\"text-align: right;\">\n",
       "      <th></th>\n",
       "      <th>Date</th>\n",
       "      <th>Customer Name</th>\n",
       "      <th>Dealer_Name</th>\n",
       "      <th>Company</th>\n",
       "      <th>Model</th>\n",
       "      <th>Year</th>\n",
       "      <th>Body Style</th>\n",
       "      <th>Engine</th>\n",
       "      <th>Transmission</th>\n",
       "      <th>Color</th>\n",
       "      <th>Price in thousands</th>\n",
       "      <th>Dealer_Add</th>\n",
       "      <th>Customer Address</th>\n",
       "      <th>CouncilArea</th>\n",
       "      <th>Phone</th>\n",
       "      <th>Gender</th>\n",
       "      <th>Annual Income</th>\n",
       "      <th>Dealer_Location</th>\n",
       "      <th>Dealer_No</th>\n",
       "      <th>Dealer_Region</th>\n",
       "    </tr>\n",
       "  </thead>\n",
       "  <tbody>\n",
       "    <tr>\n",
       "      <th>0</th>\n",
       "      <td>2016-03-09 00:00:00</td>\n",
       "      <td>Geraldine</td>\n",
       "      <td>Buddy Storbeck's Diesel Service Inc</td>\n",
       "      <td>Ford</td>\n",
       "      <td>Expedition</td>\n",
       "      <td>2015</td>\n",
       "      <td>SUV</td>\n",
       "      <td>DoubleÂ Overhead Camshaft</td>\n",
       "      <td>Auto</td>\n",
       "      <td>Black</td>\n",
       "      <td>26</td>\n",
       "      <td>44 Walnut St</td>\n",
       "      <td>68 Studley St</td>\n",
       "      <td>Yarra City Council</td>\n",
       "      <td>8264678</td>\n",
       "      <td>Male</td>\n",
       "      <td>13500</td>\n",
       "      <td>44 Walnut St</td>\n",
       "      <td>06457-3834</td>\n",
       "      <td>Middletown</td>\n",
       "    </tr>\n",
       "    <tr>\n",
       "      <th>1</th>\n",
       "      <td>2016-03-12 00:00:00</td>\n",
       "      <td>Gia</td>\n",
       "      <td>C &amp; M Motors Inc</td>\n",
       "      <td>Dodge</td>\n",
       "      <td>Durango</td>\n",
       "      <td>2015</td>\n",
       "      <td>SUV</td>\n",
       "      <td>DoubleÂ Overhead Camshaft</td>\n",
       "      <td>Auto</td>\n",
       "      <td>Black</td>\n",
       "      <td>19</td>\n",
       "      <td>4333 Ogden Ave</td>\n",
       "      <td>85 Turner St</td>\n",
       "      <td>Yarra City Council</td>\n",
       "      <td>6848189</td>\n",
       "      <td>Male</td>\n",
       "      <td>1480000</td>\n",
       "      <td>4333 Ogden Ave</td>\n",
       "      <td>60504-7114</td>\n",
       "      <td>Aurora</td>\n",
       "    </tr>\n",
       "    <tr>\n",
       "      <th>2</th>\n",
       "      <td>2016-04-02 00:00:00</td>\n",
       "      <td>Gianna</td>\n",
       "      <td>Capitol KIA</td>\n",
       "      <td>Cadillac</td>\n",
       "      <td>Eldorado</td>\n",
       "      <td>2015</td>\n",
       "      <td>Passenger</td>\n",
       "      <td>Overhead Camshaft</td>\n",
       "      <td>Manual</td>\n",
       "      <td>Red</td>\n",
       "      <td>31</td>\n",
       "      <td>3 Green Tree Trl</td>\n",
       "      <td>25 Bloomburg St</td>\n",
       "      <td>Yarra City Council</td>\n",
       "      <td>7298798</td>\n",
       "      <td>Male</td>\n",
       "      <td>1035000</td>\n",
       "      <td>3 Green Tree Trl</td>\n",
       "      <td>38701-8047</td>\n",
       "      <td>Greenville</td>\n",
       "    </tr>\n",
       "    <tr>\n",
       "      <th>3</th>\n",
       "      <td>2016-04-02 00:00:00</td>\n",
       "      <td>Giselle</td>\n",
       "      <td>Chrysler of Tri-Cities</td>\n",
       "      <td>Toyota</td>\n",
       "      <td>Celica</td>\n",
       "      <td>2016</td>\n",
       "      <td>SUV</td>\n",
       "      <td>Overhead Camshaft</td>\n",
       "      <td>Manual</td>\n",
       "      <td>Pale White</td>\n",
       "      <td>14</td>\n",
       "      <td>3203 W Marie St</td>\n",
       "      <td>18/659 Victoria St</td>\n",
       "      <td>Yarra City Council</td>\n",
       "      <td>6257557</td>\n",
       "      <td>Male</td>\n",
       "      <td>13500</td>\n",
       "      <td>3203 W Marie St</td>\n",
       "      <td>99301-3882</td>\n",
       "      <td>Pasco</td>\n",
       "    </tr>\n",
       "    <tr>\n",
       "      <th>4</th>\n",
       "      <td>2017-04-03 00:00:00</td>\n",
       "      <td>Grace</td>\n",
       "      <td>Chrysler Plymouth</td>\n",
       "      <td>Acura</td>\n",
       "      <td>TL</td>\n",
       "      <td>2015</td>\n",
       "      <td>Hatchback</td>\n",
       "      <td>DoubleÂ Overhead Camshaft</td>\n",
       "      <td>Auto</td>\n",
       "      <td>Red</td>\n",
       "      <td>24</td>\n",
       "      <td>6137 S Us-51</td>\n",
       "      <td>5 Charles St</td>\n",
       "      <td>Yarra City Council</td>\n",
       "      <td>7081483</td>\n",
       "      <td>Male</td>\n",
       "      <td>1465000</td>\n",
       "      <td>6137 S Us-51</td>\n",
       "      <td>53546-9427</td>\n",
       "      <td>Janesville</td>\n",
       "    </tr>\n",
       "  </tbody>\n",
       "</table>\n",
       "</div>"
      ],
      "text/plain": [
       "                  Date Customer Name                          Dealer_Name  \\\n",
       "0  2016-03-09 00:00:00     Geraldine  Buddy Storbeck's Diesel Service Inc   \n",
       "1  2016-03-12 00:00:00           Gia                     C & M Motors Inc   \n",
       "2  2016-04-02 00:00:00        Gianna                          Capitol KIA   \n",
       "3  2016-04-02 00:00:00       Giselle               Chrysler of Tri-Cities   \n",
       "4  2017-04-03 00:00:00         Grace                    Chrysler Plymouth   \n",
       "\n",
       "    Company       Model  Year Body Style                     Engine  \\\n",
       "0      Ford  Expedition  2015        SUV  DoubleÂ Overhead Camshaft   \n",
       "1     Dodge     Durango  2015        SUV  DoubleÂ Overhead Camshaft   \n",
       "2  Cadillac    Eldorado  2015  Passenger          Overhead Camshaft   \n",
       "3    Toyota      Celica  2016        SUV          Overhead Camshaft   \n",
       "4     Acura          TL  2015  Hatchback  DoubleÂ Overhead Camshaft   \n",
       "\n",
       "  Transmission       Color  Price in thousands        Dealer_Add  \\\n",
       "0         Auto       Black                  26      44 Walnut St   \n",
       "1         Auto       Black                  19    4333 Ogden Ave   \n",
       "2       Manual         Red                  31  3 Green Tree Trl   \n",
       "3       Manual  Pale White                  14   3203 W Marie St   \n",
       "4         Auto         Red                  24      6137 S Us-51   \n",
       "\n",
       "     Customer Address         CouncilArea    Phone Gender  Annual Income  \\\n",
       "0       68 Studley St  Yarra City Council  8264678   Male          13500   \n",
       "1        85 Turner St  Yarra City Council  6848189   Male        1480000   \n",
       "2     25 Bloomburg St  Yarra City Council  7298798   Male        1035000   \n",
       "3  18/659 Victoria St  Yarra City Council  6257557   Male          13500   \n",
       "4        5 Charles St  Yarra City Council  7081483   Male        1465000   \n",
       "\n",
       "    Dealer_Location  Dealer_No  Dealer_Region  \n",
       "0      44 Walnut St  06457-3834    Middletown  \n",
       "1    4333 Ogden Ave  60504-7114        Aurora  \n",
       "2  3 Green Tree Trl  38701-8047    Greenville  \n",
       "3   3203 W Marie St  99301-3882         Pasco  \n",
       "4      6137 S Us-51  53546-9427    Janesville  "
      ]
     },
     "execution_count": 97,
     "metadata": {},
     "output_type": "execute_result"
    }
   ],
   "source": [
    "df = pd.read_excel(\"https://github.com/sharatainapur/Data-Engineer-Series/blob/acb30b68a89ec99897e737793aa83e98c61a5d99/Car%20Sales.xlsx?raw=True\")\n",
    "df.head()"
   ]
  },
  {
   "cell_type": "code",
   "execution_count": 98,
   "id": "b613d959",
   "metadata": {},
   "outputs": [
    {
     "data": {
      "text/plain": [
       "(34732, 20)"
      ]
     },
     "execution_count": 98,
     "metadata": {},
     "output_type": "execute_result"
    }
   ],
   "source": [
    "df.shape"
   ]
  },
  {
   "cell_type": "code",
   "execution_count": 99,
   "id": "5c6461c4",
   "metadata": {},
   "outputs": [
    {
     "name": "stdout",
     "output_type": "stream",
     "text": [
      "Date                                  2016-03-09 00:00:00\n",
      "Customer Name                                   Geraldine\n",
      "Dealer_Name           Buddy Storbeck's Diesel Service Inc\n",
      "Company                                              Ford\n",
      "Model                                          Expedition\n",
      "Year                                                 2015\n",
      "Body Style                                            SUV\n",
      "Engine                          DoubleÂ Overhead Camshaft\n",
      "Transmission                                         Auto\n",
      "Color                                               Black\n",
      "Price in thousands                                     26\n",
      "Dealer_Add                                   44 Walnut St\n",
      "Customer Address                            68 Studley St\n",
      "CouncilArea                            Yarra City Council\n",
      "Phone                                             8264678\n",
      "Gender                                               Male\n",
      "Annual Income                                       13500\n",
      "Dealer_Location                              44 Walnut St\n",
      "Dealer_No                                      06457-3834\n",
      "Dealer_Region                                  Middletown\n",
      "Name: 0, dtype: object\n"
     ]
    }
   ],
   "source": [
    "print(df.iloc[0])"
   ]
  },
  {
   "cell_type": "code",
   "execution_count": 100,
   "id": "4e94fc9d",
   "metadata": {},
   "outputs": [],
   "source": [
    "df.Date=df.Date.astype(str)"
   ]
  },
  {
   "cell_type": "code",
   "execution_count": 101,
   "id": "aa3ac11b",
   "metadata": {},
   "outputs": [
    {
     "data": {
      "text/html": [
       "<div>\n",
       "<style scoped>\n",
       "    .dataframe tbody tr th:only-of-type {\n",
       "        vertical-align: middle;\n",
       "    }\n",
       "\n",
       "    .dataframe tbody tr th {\n",
       "        vertical-align: top;\n",
       "    }\n",
       "\n",
       "    .dataframe thead th {\n",
       "        text-align: right;\n",
       "    }\n",
       "</style>\n",
       "<table border=\"1\" class=\"dataframe\">\n",
       "  <thead>\n",
       "    <tr style=\"text-align: right;\">\n",
       "      <th></th>\n",
       "      <th>Date</th>\n",
       "      <th>Customer Name</th>\n",
       "      <th>Dealer_Name</th>\n",
       "      <th>Company</th>\n",
       "      <th>Model</th>\n",
       "      <th>Year</th>\n",
       "      <th>Body Style</th>\n",
       "      <th>Engine</th>\n",
       "      <th>Transmission</th>\n",
       "      <th>Color</th>\n",
       "      <th>Price in thousands</th>\n",
       "      <th>Dealer_Add</th>\n",
       "      <th>Customer Address</th>\n",
       "      <th>CouncilArea</th>\n",
       "      <th>Phone</th>\n",
       "      <th>Gender</th>\n",
       "      <th>Annual Income</th>\n",
       "      <th>Dealer_Location</th>\n",
       "      <th>Dealer_No</th>\n",
       "      <th>Dealer_Region</th>\n",
       "    </tr>\n",
       "  </thead>\n",
       "  <tbody>\n",
       "    <tr>\n",
       "      <th>0</th>\n",
       "      <td>2016-03-09 00:00:00</td>\n",
       "      <td>Geraldine</td>\n",
       "      <td>Buddy Storbeck's Diesel Service Inc</td>\n",
       "      <td>Ford</td>\n",
       "      <td>Expedition</td>\n",
       "      <td>2015</td>\n",
       "      <td>SUV</td>\n",
       "      <td>DoubleÂ Overhead Camshaft</td>\n",
       "      <td>Auto</td>\n",
       "      <td>Black</td>\n",
       "      <td>26</td>\n",
       "      <td>44 Walnut St</td>\n",
       "      <td>68 Studley St</td>\n",
       "      <td>Yarra City Council</td>\n",
       "      <td>8264678</td>\n",
       "      <td>Male</td>\n",
       "      <td>13500</td>\n",
       "      <td>44 Walnut St</td>\n",
       "      <td>06457-3834</td>\n",
       "      <td>Middletown</td>\n",
       "    </tr>\n",
       "    <tr>\n",
       "      <th>1</th>\n",
       "      <td>2016-03-12 00:00:00</td>\n",
       "      <td>Gia</td>\n",
       "      <td>C &amp; M Motors Inc</td>\n",
       "      <td>Dodge</td>\n",
       "      <td>Durango</td>\n",
       "      <td>2015</td>\n",
       "      <td>SUV</td>\n",
       "      <td>DoubleÂ Overhead Camshaft</td>\n",
       "      <td>Auto</td>\n",
       "      <td>Black</td>\n",
       "      <td>19</td>\n",
       "      <td>4333 Ogden Ave</td>\n",
       "      <td>85 Turner St</td>\n",
       "      <td>Yarra City Council</td>\n",
       "      <td>6848189</td>\n",
       "      <td>Male</td>\n",
       "      <td>1480000</td>\n",
       "      <td>4333 Ogden Ave</td>\n",
       "      <td>60504-7114</td>\n",
       "      <td>Aurora</td>\n",
       "    </tr>\n",
       "    <tr>\n",
       "      <th>2</th>\n",
       "      <td>2016-04-02 00:00:00</td>\n",
       "      <td>Gianna</td>\n",
       "      <td>Capitol KIA</td>\n",
       "      <td>Cadillac</td>\n",
       "      <td>Eldorado</td>\n",
       "      <td>2015</td>\n",
       "      <td>Passenger</td>\n",
       "      <td>Overhead Camshaft</td>\n",
       "      <td>Manual</td>\n",
       "      <td>Red</td>\n",
       "      <td>31</td>\n",
       "      <td>3 Green Tree Trl</td>\n",
       "      <td>25 Bloomburg St</td>\n",
       "      <td>Yarra City Council</td>\n",
       "      <td>7298798</td>\n",
       "      <td>Male</td>\n",
       "      <td>1035000</td>\n",
       "      <td>3 Green Tree Trl</td>\n",
       "      <td>38701-8047</td>\n",
       "      <td>Greenville</td>\n",
       "    </tr>\n",
       "    <tr>\n",
       "      <th>3</th>\n",
       "      <td>2016-04-02 00:00:00</td>\n",
       "      <td>Giselle</td>\n",
       "      <td>Chrysler of Tri-Cities</td>\n",
       "      <td>Toyota</td>\n",
       "      <td>Celica</td>\n",
       "      <td>2016</td>\n",
       "      <td>SUV</td>\n",
       "      <td>Overhead Camshaft</td>\n",
       "      <td>Manual</td>\n",
       "      <td>Pale White</td>\n",
       "      <td>14</td>\n",
       "      <td>3203 W Marie St</td>\n",
       "      <td>18/659 Victoria St</td>\n",
       "      <td>Yarra City Council</td>\n",
       "      <td>6257557</td>\n",
       "      <td>Male</td>\n",
       "      <td>13500</td>\n",
       "      <td>3203 W Marie St</td>\n",
       "      <td>99301-3882</td>\n",
       "      <td>Pasco</td>\n",
       "    </tr>\n",
       "    <tr>\n",
       "      <th>4</th>\n",
       "      <td>2017-04-03 00:00:00</td>\n",
       "      <td>Grace</td>\n",
       "      <td>Chrysler Plymouth</td>\n",
       "      <td>Acura</td>\n",
       "      <td>TL</td>\n",
       "      <td>2015</td>\n",
       "      <td>Hatchback</td>\n",
       "      <td>DoubleÂ Overhead Camshaft</td>\n",
       "      <td>Auto</td>\n",
       "      <td>Red</td>\n",
       "      <td>24</td>\n",
       "      <td>6137 S Us-51</td>\n",
       "      <td>5 Charles St</td>\n",
       "      <td>Yarra City Council</td>\n",
       "      <td>7081483</td>\n",
       "      <td>Male</td>\n",
       "      <td>1465000</td>\n",
       "      <td>6137 S Us-51</td>\n",
       "      <td>53546-9427</td>\n",
       "      <td>Janesville</td>\n",
       "    </tr>\n",
       "  </tbody>\n",
       "</table>\n",
       "</div>"
      ],
      "text/plain": [
       "                  Date Customer Name                          Dealer_Name  \\\n",
       "0  2016-03-09 00:00:00     Geraldine  Buddy Storbeck's Diesel Service Inc   \n",
       "1  2016-03-12 00:00:00           Gia                     C & M Motors Inc   \n",
       "2  2016-04-02 00:00:00        Gianna                          Capitol KIA   \n",
       "3  2016-04-02 00:00:00       Giselle               Chrysler of Tri-Cities   \n",
       "4  2017-04-03 00:00:00         Grace                    Chrysler Plymouth   \n",
       "\n",
       "    Company       Model  Year Body Style                     Engine  \\\n",
       "0      Ford  Expedition  2015        SUV  DoubleÂ Overhead Camshaft   \n",
       "1     Dodge     Durango  2015        SUV  DoubleÂ Overhead Camshaft   \n",
       "2  Cadillac    Eldorado  2015  Passenger          Overhead Camshaft   \n",
       "3    Toyota      Celica  2016        SUV          Overhead Camshaft   \n",
       "4     Acura          TL  2015  Hatchback  DoubleÂ Overhead Camshaft   \n",
       "\n",
       "  Transmission       Color  Price in thousands        Dealer_Add  \\\n",
       "0         Auto       Black                  26      44 Walnut St   \n",
       "1         Auto       Black                  19    4333 Ogden Ave   \n",
       "2       Manual         Red                  31  3 Green Tree Trl   \n",
       "3       Manual  Pale White                  14   3203 W Marie St   \n",
       "4         Auto         Red                  24      6137 S Us-51   \n",
       "\n",
       "     Customer Address         CouncilArea    Phone Gender  Annual Income  \\\n",
       "0       68 Studley St  Yarra City Council  8264678   Male          13500   \n",
       "1        85 Turner St  Yarra City Council  6848189   Male        1480000   \n",
       "2     25 Bloomburg St  Yarra City Council  7298798   Male        1035000   \n",
       "3  18/659 Victoria St  Yarra City Council  6257557   Male          13500   \n",
       "4        5 Charles St  Yarra City Council  7081483   Male        1465000   \n",
       "\n",
       "    Dealer_Location  Dealer_No  Dealer_Region  \n",
       "0      44 Walnut St  06457-3834    Middletown  \n",
       "1    4333 Ogden Ave  60504-7114        Aurora  \n",
       "2  3 Green Tree Trl  38701-8047    Greenville  \n",
       "3   3203 W Marie St  99301-3882         Pasco  \n",
       "4      6137 S Us-51  53546-9427    Janesville  "
      ]
     },
     "execution_count": 101,
     "metadata": {},
     "output_type": "execute_result"
    }
   ],
   "source": [
    "df.head()"
   ]
  },
  {
   "cell_type": "code",
   "execution_count": 102,
   "id": "8ecc6ecd",
   "metadata": {},
   "outputs": [
    {
     "data": {
      "text/plain": [
       "('2016-03-12 00:00:00',\n",
       " 'Gia',\n",
       " 'C & M Motors Inc',\n",
       " 'Dodge',\n",
       " 'Durango',\n",
       " 2015,\n",
       " 'SUV',\n",
       " 'DoubleÂ\\xa0Overhead Camshaft',\n",
       " 'Auto',\n",
       " 'Black',\n",
       " 19,\n",
       " '4333 Ogden Ave',\n",
       " '85 Turner St',\n",
       " 'Yarra City Council',\n",
       " 6848189,\n",
       " 'Male',\n",
       " 1480000,\n",
       " '4333 Ogden Ave',\n",
       " '60504-7114',\n",
       " 'Aurora')"
      ]
     },
     "execution_count": 102,
     "metadata": {},
     "output_type": "execute_result"
    }
   ],
   "source": [
    "tuple(df.iloc[1].to_list())"
   ]
  },
  {
   "cell_type": "markdown",
   "id": "807ee3b5",
   "metadata": {},
   "source": [
    "### Insert the rows from xlsx file to the database\n"
   ]
  },
  {
   "cell_type": "code",
   "execution_count": 103,
   "id": "a599f19d",
   "metadata": {},
   "outputs": [
    {
     "data": {
      "text/plain": [
       "34732"
      ]
     },
     "execution_count": 103,
     "metadata": {},
     "output_type": "execute_result"
    }
   ],
   "source": [
    "len(df)"
   ]
  },
  {
   "cell_type": "code",
   "execution_count": 104,
   "id": "876ba3e1",
   "metadata": {},
   "outputs": [],
   "source": [
    "temp_tuple=\"\"\n",
    "for i in range(len(df)):\n",
    "    temp_tuple=tuple(df.iloc[i].to_list())\n",
    "    \n",
    "    try: \n",
    "        cur.execute(\"INSERT INTO cars (Purchase_Date , Customer_Name , Dealer_Name,  Company , Model , Year , Body_Style , \\\n",
    "    Engine , Transmission , Color , Price_in_thousands , Dealer_Add , Customer_Address , CouncilArea , Phone , Gender , Annual_Income , Dealer_Location , Dealer_No  , Dealer_Region) \\\n",
    "                 VALUES (%s, %s, %s, %s, %s, %s, %s, %s, %s, %s, %s, %s, %s, %s, %s, %s, %s, %s, %s, %s)\", \n",
    "                 temp_tuple)\n",
    "    \n",
    "    except psycopg2.Error as e: \n",
    "        print(\"Error: Inserting Rows\")\n",
    "        print (e)"
   ]
  },
  {
   "cell_type": "markdown",
   "id": "830f62a8",
   "metadata": {},
   "source": [
    "## Validate your data was inserted into the table."
   ]
  },
  {
   "cell_type": "code",
   "execution_count": 105,
   "id": "39875456",
   "metadata": {},
   "outputs": [
    {
     "name": "stdout",
     "output_type": "stream",
     "text": [
      "(34732,)\n"
     ]
    }
   ],
   "source": [
    "try: \n",
    "    cur.execute(\"SELECT COUNT(*) FROM cars;\")\n",
    "except psycopg2.Error as e: \n",
    "    print(\"Error: select *\")\n",
    "    print (e)\n",
    "\n",
    "row = cur.fetchone()\n",
    "while row:\n",
    "    print(row)\n",
    "    row = cur.fetchone()"
   ]
  },
  {
   "cell_type": "markdown",
   "id": "7dc5483a",
   "metadata": {},
   "source": [
    "##  And finally close your cursor and connection."
   ]
  },
  {
   "cell_type": "code",
   "execution_count": 106,
   "id": "a95e6d61",
   "metadata": {},
   "outputs": [],
   "source": [
    "cur.close()\n",
    "conn.close()"
   ]
  }
 ],
 "metadata": {
  "kernelspec": {
   "display_name": "Python 3 (ipykernel)",
   "language": "python",
   "name": "python3"
  },
  "language_info": {
   "codemirror_mode": {
    "name": "ipython",
    "version": 3
   },
   "file_extension": ".py",
   "mimetype": "text/x-python",
   "name": "python",
   "nbconvert_exporter": "python",
   "pygments_lexer": "ipython3",
   "version": "3.8.8"
  }
 },
 "nbformat": 4,
 "nbformat_minor": 5
}
